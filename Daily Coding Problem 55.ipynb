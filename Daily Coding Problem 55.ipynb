{
 "cells": [
  {
   "cell_type": "markdown",
   "id": "3ed1ab43",
   "metadata": {},
   "source": [
    "# Daily Coding Problem 55"
   ]
  },
  {
   "cell_type": "raw",
   "id": "fa19461c",
   "metadata": {},
   "source": [
    "This problem was asked by Microsoft.\n",
    "\n",
    "Implement a URL shortener with the following methods:\n",
    "\n",
    " - shorten(url), which shortens the url into a six-character alphanumeric string, such as zLg6wl.\n",
    " - restore(short), which expands the shortened string into the original url. If no such shortened string exists,      return null.\n",
    " \n",
    "Hint: What if we enter the same URL twice?"
   ]
  },
  {
   "cell_type": "markdown",
   "id": "f733918d",
   "metadata": {},
   "source": [
    "# Solution\n",
    "\n",
    "Clearly, we need a random string generator for this problem. If you're in an interview and you don't know how to generate a random string by heart, that's fine -- you can just assume you have access to a function that generate N random characters. In this case, we'll create a helper function called _generate_short that does it for us.\n",
    "\n",
    "The idea for this problem is to generate a shortened url and store it in a dictionary where the shortened url is the key and the actual url is the value. Then, when retrieving the actual url we can just look it up in the dictionary.\n",
    "\n",
    "However, we need to be careful in that we don't accidentally overwrite an existing entry when shortening a url. So what we'll do is continuously generate urls until we find one that doesn't already exist, and then use that one. We do that in the helper function generate_unused_short.\n",
    "\n",
    "What if we shorten the same url twice? We could potentially re-use the existing shortened url, but we don't know how to access it without querying all values in our dict!\n",
    "\n",
    "So we can create a second dict that maps urls to shortened urls and update that appropriately. When we see a url we've seen before, we can just then just re-use that shortened url.\n",
    "\n"
   ]
  },
  {
   "cell_type": "code",
   "execution_count": 1,
   "id": "8550c3cd",
   "metadata": {},
   "outputs": [],
   "source": [
    "import random\n",
    "import string\n",
    "\n",
    "class URLShortener:\n",
    "    def __init__(self):\n",
    "        self.short_to_url = {}\n",
    "        self.url_to_short = {}\n",
    "\n",
    "    def _generate_short(self):\n",
    "        return ''.join(random.choice(string.ascii_uppercase + string.digits) for _ in range(6))\n",
    "\n",
    "    def _generate_unused_short(self):\n",
    "        t = self._generate_short()\n",
    "        while t in self.short_to_url:\n",
    "            t = self._generate_short()\n",
    "        return t\n",
    "\n",
    "    def shorten(self, url):\n",
    "        short = self._generate_unused_short()\n",
    "        if url in self.url_to_short:\n",
    "            return self.url_to_short[url]\n",
    "        self.short_to_url[short] = url\n",
    "        self.url_to_short[url] = short\n",
    "        return short\n",
    "\n",
    "    def restore(self, short):\n",
    "        return self.short_to_url.get(short, None)"
   ]
  },
  {
   "cell_type": "code",
   "execution_count": null,
   "id": "aef6fe27",
   "metadata": {},
   "outputs": [],
   "source": []
  },
  {
   "cell_type": "code",
   "execution_count": null,
   "id": "28e1ce2b",
   "metadata": {},
   "outputs": [],
   "source": []
  },
  {
   "cell_type": "code",
   "execution_count": null,
   "id": "a4fac787",
   "metadata": {},
   "outputs": [],
   "source": []
  }
 ],
 "metadata": {
  "kernelspec": {
   "display_name": "Python 3 (ipykernel)",
   "language": "python",
   "name": "python3"
  },
  "language_info": {
   "codemirror_mode": {
    "name": "ipython",
    "version": 3
   },
   "file_extension": ".py",
   "mimetype": "text/x-python",
   "name": "python",
   "nbconvert_exporter": "python",
   "pygments_lexer": "ipython3",
   "version": "3.8.10"
  }
 },
 "nbformat": 4,
 "nbformat_minor": 5
}
